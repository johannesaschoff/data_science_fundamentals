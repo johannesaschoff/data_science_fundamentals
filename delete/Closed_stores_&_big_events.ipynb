{
 "cells": [
  {
   "cell_type": "code",
   "execution_count": 14,
   "id": "ec9e8424",
   "metadata": {},
   "outputs": [],
   "source": [
    "#importing libraries\n",
    "import pandas as pd"
   ]
  },
  {
   "cell_type": "code",
   "execution_count": 15,
   "id": "e385ee00",
   "metadata": {},
   "outputs": [],
   "source": [
    "#importing the time frame we had set \n",
    "df_accurate_timeframe = pd.read_csv(\"/Users/Anne/LE_CODING_🐥/DSF/projekt/accurate_timeframe.csv\")"
   ]
  },
  {
   "cell_type": "markdown",
   "id": "2dfec509",
   "metadata": {},
   "source": [
    "# Closed stores"
   ]
  },
  {
   "cell_type": "code",
   "execution_count": 16,
   "id": "5447e7f3",
   "metadata": {},
   "outputs": [],
   "source": [
    "#importing the excel csv with the dates of when the stores are all closed\n",
    "df_closing_holidays = pd.read_excel(\"/Users/Anne/LE_CODING_🐥/DSF/projekt/feiertage ladenschliessung.xlsx\")"
   ]
  },
  {
   "cell_type": "code",
   "execution_count": 17,
   "id": "538da022",
   "metadata": {
    "scrolled": true
   },
   "outputs": [],
   "source": [
    "#setting the datetime column of the accurate time frame to datetime \n",
    "df_accurate_timeframe[\"datetime\"]= pd.to_datetime(df_accurate_timeframe[\"datetime\"])"
   ]
  },
  {
   "cell_type": "code",
   "execution_count": 18,
   "id": "1767f099",
   "metadata": {},
   "outputs": [],
   "source": [
    "# setting the Datum column to datetime and renaming it to datetime, so it'll match the accurate time frame\n",
    "df_closing_holidays[\"datetime\"]= pd.to_datetime(df_closing_holidays[\"Datum\"])"
   ]
  },
  {
   "cell_type": "code",
   "execution_count": 19,
   "id": "3c7954bf",
   "metadata": {},
   "outputs": [
    {
     "name": "stdout",
     "output_type": "stream",
     "text": [
      "<class 'pandas.core.frame.DataFrame'>\n",
      "RangeIndex: 18 entries, 0 to 17\n",
      "Data columns (total 3 columns):\n",
      " #   Column    Non-Null Count  Dtype         \n",
      "---  ------    --------------  -----         \n",
      " 0   Feiertag  18 non-null     object        \n",
      " 1   Datum     18 non-null     datetime64[ns]\n",
      " 2   datetime  18 non-null     datetime64[ns]\n",
      "dtypes: datetime64[ns](2), object(1)\n",
      "memory usage: 560.0+ bytes\n"
     ]
    }
   ],
   "source": [
    "#making sure it's of type datetime\n",
    "df_closing_holidays.info()"
   ]
  },
  {
   "cell_type": "code",
   "execution_count": 20,
   "id": "d90d17ad",
   "metadata": {},
   "outputs": [],
   "source": [
    "# function that resamples the daily time series data to an hourly\n",
    "\n",
    "hourly_standard = pd.DataFrame()\n",
    "\n",
    "for _, row in df_closing_holidays.iterrows():\n",
    "    date_range = pd.date_range(row['Datum'], periods=24, freq='H')\n",
    "    temp_df = pd.DataFrame({'Feiertag': [row['Feiertag']] * 24, 'Datum': date_range})\n",
    "    hourly_standard = pd.concat([hourly_standard, temp_df])\n",
    "\n",
    "# Reset the index of the new DataFrame\n",
    "hourly_standard.reset_index(drop=True, inplace=True)\n"
   ]
  },
  {
   "cell_type": "code",
   "execution_count": 21,
   "id": "0c3a12c6",
   "metadata": {},
   "outputs": [],
   "source": [
    "# assigning a 1.0 to the dates where the stores are closed\n",
    "hourly_standard[\"stores_closed_on_that_day\"] = 1.0"
   ]
  },
  {
   "cell_type": "code",
   "execution_count": 22,
   "id": "0482eb01",
   "metadata": {},
   "outputs": [],
   "source": [
    "#dropping the column Feiertage\n",
    "hourly_closed_holidays = hourly_standard.drop(\"Feiertag\", axis = 1)"
   ]
  },
  {
   "cell_type": "code",
   "execution_count": 23,
   "id": "8da0e021",
   "metadata": {},
   "outputs": [],
   "source": [
    "#renaming the Datum column to datetime\n",
    "hourly_closed_holidays.rename(columns = {\"Datum\": \"datetime\"}, inplace = True)"
   ]
  },
  {
   "cell_type": "code",
   "execution_count": 24,
   "id": "923c8e99",
   "metadata": {},
   "outputs": [
    {
     "data": {
      "text/plain": [
       "0"
      ]
     },
     "execution_count": 24,
     "metadata": {},
     "output_type": "execute_result"
    }
   ],
   "source": [
    "#making sure that there are no duplicates \n",
    "hourly_closed_holidays.duplicated().sum()"
   ]
  },
  {
   "cell_type": "code",
   "execution_count": 25,
   "id": "a59f78eb",
   "metadata": {},
   "outputs": [],
   "source": [
    "#merging the df containing the dates of the closed stores with the accurate time frame\n",
    "hourly_closed_holidays_final = pd.merge(df_accurate_timeframe, hourly_closed_holidays, how =\"left\", on=\"datetime\")"
   ]
  },
  {
   "cell_type": "code",
   "execution_count": 26,
   "id": "33dc7bf4",
   "metadata": {},
   "outputs": [],
   "source": [
    "#filling all the dates where the stores are open with 0.0\n",
    "hourly_closed_holidays_final = hourly_closed_holidays_final.fillna(0.0)"
   ]
  },
  {
   "cell_type": "code",
   "execution_count": 27,
   "id": "affd15ea",
   "metadata": {},
   "outputs": [],
   "source": [
    "# saving the dt to a csv\n",
    "hourly_closed_holidays_final.to_csv('/Users/Anne/LE_CODING_🐥/DSF/projekt/accurate_timeframe_+_stores_closed.csv', index=False)"
   ]
  },
  {
   "cell_type": "markdown",
   "id": "440c1977",
   "metadata": {},
   "source": [
    "# Big events"
   ]
  },
  {
   "cell_type": "code",
   "execution_count": 28,
   "id": "70cb0657",
   "metadata": {},
   "outputs": [],
   "source": [
    "#importing the excel csv with the dates of big events\n",
    "df_grossevents = pd.read_excel(\"/Users/Anne/LE_CODING_🐥/DSF/projekt/grossevents zürich.xlsx\")"
   ]
  },
  {
   "cell_type": "code",
   "execution_count": 29,
   "id": "102beb11",
   "metadata": {
    "scrolled": true
   },
   "outputs": [],
   "source": [
    "# setting the Datum column to datetime and renaming it to datetime, so it'll match the accurate time frame\n",
    "df_grossevents[\"datetime\"]= pd.to_datetime(df_grossevents[\"Datum\"])"
   ]
  },
  {
   "cell_type": "code",
   "execution_count": 30,
   "id": "e8f5b9ce",
   "metadata": {},
   "outputs": [],
   "source": [
    "# function that resamples the daily time series data to an hourly\n",
    "hourly_standard_g_e = pd.DataFrame()\n",
    "\n",
    "for _, row in df_grossevents.iterrows():\n",
    "    date_range = pd.date_range(row['datetime'], periods=24, freq='H')\n",
    "    temp_df = pd.DataFrame({'Event': [row['Event']] * 24, 'datetime': date_range})\n",
    "    hourly_standard_g_e = pd.concat([hourly_standard_g_e, temp_df])\n",
    "\n",
    "# Reset the index of the new DataFrame\n",
    "hourly_standard_g_e.reset_index(drop=True, inplace=True)"
   ]
  },
  {
   "cell_type": "code",
   "execution_count": 31,
   "id": "00894971",
   "metadata": {},
   "outputs": [],
   "source": [
    "# assigning a 1.0 to the dates when big events are happening\n",
    "hourly_standard_g_e[\"Event\"] = 1.0"
   ]
  },
  {
   "cell_type": "code",
   "execution_count": 32,
   "id": "fa2d2094",
   "metadata": {},
   "outputs": [],
   "source": [
    "#merging the df containing the dates of the big events with the accurate time frame\n",
    "hourly_gross_events_final = pd.merge(df_accurate_timeframe, hourly_standard_g_e, how =\"outer\", on=\"datetime\")"
   ]
  },
  {
   "cell_type": "code",
   "execution_count": 33,
   "id": "f8311986",
   "metadata": {},
   "outputs": [],
   "source": [
    "#filling all the dates where no big events are happening with 0.0\n",
    "hourly_gross_events_final = hourly_gross_events_final.fillna(0.0)"
   ]
  },
  {
   "cell_type": "code",
   "execution_count": 34,
   "id": "c04137cb",
   "metadata": {},
   "outputs": [],
   "source": [
    "# saving the dt to a csv\n",
    "hourly_gross_events_final.to_csv('/Users/Anne/LE_CODING_🐥/DSF/projekt/gross_events_acurate_time_frame.csv', index=False)\n"
   ]
  }
 ],
 "metadata": {
  "kernelspec": {
   "display_name": "Python 3 (ipykernel)",
   "language": "python",
   "name": "python3"
  },
  "language_info": {
   "codemirror_mode": {
    "name": "ipython",
    "version": 3
   },
   "file_extension": ".py",
   "mimetype": "text/x-python",
   "name": "python",
   "nbconvert_exporter": "python",
   "pygments_lexer": "ipython3",
   "version": "3.8.12"
  },
  "toc": {
   "base_numbering": 1,
   "nav_menu": {},
   "number_sections": true,
   "sideBar": true,
   "skip_h1_title": false,
   "title_cell": "Table of Contents",
   "title_sidebar": "Contents",
   "toc_cell": false,
   "toc_position": {},
   "toc_section_display": true,
   "toc_window_display": false
  }
 },
 "nbformat": 4,
 "nbformat_minor": 5
}
