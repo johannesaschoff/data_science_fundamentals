{
 "cells": [
  {
   "cell_type": "markdown",
   "id": "f5b30fd6",
   "metadata": {},
   "source": [
    "## Load Target Variable: Fussgängerzahlen"
   ]
  },
  {
   "cell_type": "markdown",
   "id": "6b76a2c6",
   "metadata": {},
   "source": [
    "[Passantenfrequenzen an der Bahnhofstrasse - Stundenwerte](https://data.stadt-zuerich.ch/dataset/hystreet_fussgaengerfrequenzen)"
   ]
  },
  {
   "cell_type": "code",
   "execution_count": 3,
   "id": "7a4d9eb2",
   "metadata": {},
   "outputs": [],
   "source": [
    "import pandas as pd\n",
    "\n",
    "url_cs = \"https://data.stadt-zuerich.ch/dataset/hystreet_fussgaengerfrequenzen/download/hystreet_fussgaengerfrequenzen_seit2021.csv\"\n",
    "\n",
    "fussgängerzahlen = pd.read_csv(\n",
    "    url_cs,\n",
    "    sep=',',\n",
    "    encoding='utf-8',\n",
    ")\n",
    "\n",
    "fussgängerzahlen.to_csv(\"fussgängerzahlen.csv\")"
   ]
  }
 ],
 "metadata": {
  "kernelspec": {
   "display_name": "Python 3 (ipykernel)",
   "language": "python",
   "name": "python3"
  },
  "language_info": {
   "codemirror_mode": {
    "name": "ipython",
    "version": 3
   },
   "file_extension": ".py",
   "mimetype": "text/x-python",
   "name": "python",
   "nbconvert_exporter": "python",
   "pygments_lexer": "ipython3",
   "version": "3.11.4"
  }
 },
 "nbformat": 4,
 "nbformat_minor": 5
}
