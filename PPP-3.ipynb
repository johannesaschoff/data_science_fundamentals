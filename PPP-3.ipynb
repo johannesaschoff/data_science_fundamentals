{
 "cells": [
  {
   "cell_type": "markdown",
   "id": "0ce43962",
   "metadata": {},
   "source": [
    "# Purchasing Power Parity\n"
   ]
  },
  {
   "cell_type": "code",
   "execution_count": 2,
   "id": "ec7d97ef",
   "metadata": {},
   "outputs": [
    {
     "data": {
      "text/html": [
       "<div>\n",
       "<style scoped>\n",
       "    .dataframe tbody tr th:only-of-type {\n",
       "        vertical-align: middle;\n",
       "    }\n",
       "\n",
       "    .dataframe tbody tr th {\n",
       "        vertical-align: top;\n",
       "    }\n",
       "\n",
       "    .dataframe thead th {\n",
       "        text-align: right;\n",
       "    }\n",
       "</style>\n",
       "<table border=\"1\" class=\"dataframe\">\n",
       "  <thead>\n",
       "    <tr style=\"text-align: right;\">\n",
       "      <th></th>\n",
       "      <th>PPP</th>\n",
       "    </tr>\n",
       "    <tr>\n",
       "      <th>Date</th>\n",
       "      <th></th>\n",
       "    </tr>\n",
       "  </thead>\n",
       "  <tbody>\n",
       "    <tr>\n",
       "      <th>2021-08-31</th>\n",
       "      <td>101.3</td>\n",
       "    </tr>\n",
       "    <tr>\n",
       "      <th>2021-09-30</th>\n",
       "      <td>101.3</td>\n",
       "    </tr>\n",
       "    <tr>\n",
       "      <th>2021-10-31</th>\n",
       "      <td>101.6</td>\n",
       "    </tr>\n",
       "    <tr>\n",
       "      <th>2021-11-30</th>\n",
       "      <td>101.6</td>\n",
       "    </tr>\n",
       "    <tr>\n",
       "      <th>2021-12-31</th>\n",
       "      <td>101.5</td>\n",
       "    </tr>\n",
       "  </tbody>\n",
       "</table>\n",
       "</div>"
      ],
      "text/plain": [
       "              PPP\n",
       "Date             \n",
       "2021-08-31  101.3\n",
       "2021-09-30  101.3\n",
       "2021-10-31  101.6\n",
       "2021-11-30  101.6\n",
       "2021-12-31  101.5"
      ]
     },
     "execution_count": 2,
     "metadata": {},
     "output_type": "execute_result"
    }
   ],
   "source": [
    "# https://www.bfs.admin.ch/bfs/de/home/statistiken/preise/landesindex-konsumentenpreise.assetdetail.29065706.html\n",
    "# Die columns zwischen Datum und den Prozentanzahlen zeigen die Veränderungen, skaliert auf das jeweilige Jahr als Basisjahr\n",
    "# % m-1 zeigt die monatliche Veränderung und m-12 zeigt die jährliche Veränderung\n",
    "\n",
    "import pandas as pd\n",
    "\n",
    "# Set start and end date\n",
    "start_date = \"2021-09-28\"\n",
    "end_date = \"2023-11-08\"\n",
    "\n",
    "\n",
    "ppp = pd.read_excel(\"Konsumentenpreise_CH.xlsx\")\n",
    "ppp[\"Datum / Date\"] = pd.to_datetime(ppp[\"Datum / Date\"], format=\"%Y-%m-%d\")\n",
    "ppp = ppp.loc[(ppp[\"Datum / Date\"] >= \"2021-07-30\") & (ppp[\"Datum / Date\"] <= end_date)]\n",
    "\n",
    "ppp = ppp.iloc[:, [0, 11]].set_index(\"Datum / Date\")\n",
    "\n",
    "ppp.columns = [\"PPP\"]\n",
    "ppp.rename_axis('Date', inplace = True)\n",
    "ppp.index = ppp.index + pd.offsets.MonthEnd(0)\n",
    "\n",
    "ppp.head()"
   ]
  },
  {
   "cell_type": "code",
   "execution_count": 11,
   "id": "6112c96a",
   "metadata": {},
   "outputs": [
    {
     "data": {
      "text/html": [
       "<div>\n",
       "<style scoped>\n",
       "    .dataframe tbody tr th:only-of-type {\n",
       "        vertical-align: middle;\n",
       "    }\n",
       "\n",
       "    .dataframe tbody tr th {\n",
       "        vertical-align: top;\n",
       "    }\n",
       "\n",
       "    .dataframe thead th {\n",
       "        text-align: right;\n",
       "    }\n",
       "</style>\n",
       "<table border=\"1\" class=\"dataframe\">\n",
       "  <thead>\n",
       "    <tr style=\"text-align: right;\">\n",
       "      <th></th>\n",
       "      <th>PPP</th>\n",
       "    </tr>\n",
       "    <tr>\n",
       "      <th>Date</th>\n",
       "      <th></th>\n",
       "    </tr>\n",
       "  </thead>\n",
       "  <tbody>\n",
       "    <tr>\n",
       "      <th>2021-08-31</th>\n",
       "      <td>0.000000</td>\n",
       "    </tr>\n",
       "    <tr>\n",
       "      <th>2021-09-30</th>\n",
       "      <td>0.000000</td>\n",
       "    </tr>\n",
       "    <tr>\n",
       "      <th>2021-10-31</th>\n",
       "      <td>0.058824</td>\n",
       "    </tr>\n",
       "    <tr>\n",
       "      <th>2021-11-30</th>\n",
       "      <td>0.058824</td>\n",
       "    </tr>\n",
       "    <tr>\n",
       "      <th>2021-12-31</th>\n",
       "      <td>0.039216</td>\n",
       "    </tr>\n",
       "  </tbody>\n",
       "</table>\n",
       "</div>"
      ],
      "text/plain": [
       "                 PPP\n",
       "Date                \n",
       "2021-08-31  0.000000\n",
       "2021-09-30  0.000000\n",
       "2021-10-31  0.058824\n",
       "2021-11-30  0.058824\n",
       "2021-12-31  0.039216"
      ]
     },
     "metadata": {},
     "output_type": "display_data"
    }
   ],
   "source": [
    "#from sklearn.preprocessing import StandardScaler\n",
    "from sklearn.preprocessing import MinMaxScaler\n",
    "\n",
    "#scaler = StandardScaler()\n",
    "scaler = MinMaxScaler()\n",
    "\n",
    "\n",
    "ppp[\"PPP\"] = scaler.fit_transform(ppp[\"PPP\"].values.reshape(-1, 1))\n",
    "display(ppp.head())"
   ]
  },
  {
   "cell_type": "code",
   "execution_count": 12,
   "id": "5e7fd54f",
   "metadata": {},
   "outputs": [],
   "source": [
    "ppp_to_hour = ppp.resample(\"H\").ffill()\n",
    "ppp_to_hour = ppp_to_hour.reset_index()\n",
    "ppp = ppp_to_hour.loc[(ppp_to_hour[\"Date\"] >= start_date) & (ppp_to_hour[\"Date\"] <= end_date)]\n",
    "ppp.set_index(\"Date\", inplace = True)"
   ]
  },
  {
   "cell_type": "code",
   "execution_count": 13,
   "id": "78ae7ca2",
   "metadata": {},
   "outputs": [
    {
     "data": {
      "image/png": "[encoded data removed]",
      "text/plain": [
       "<Figure size 1000x600 with 1 Axes>"
      ]
     },
     "metadata": {},
     "output_type": "display_data"
    }
   ],
   "source": [
    "import matplotlib.pyplot as plt\n",
    "\n",
    "\n",
    "# Plotting\n",
    "plt.figure(figsize=(10, 6))\n",
    "plt.plot(ppp.index, ppp[\"PPP\"], label = \"PPP\")\n",
    "\n",
    "# Formatting\n",
    "plt.title('Date vs PPP')\n",
    "plt.xlabel('Date')\n",
    "plt.ylabel('PPP')\n",
    "plt.legend()\n",
    "plt.grid(True)\n",
    "plt.show()\n"
   ]
  },
  {
   "cell_type": "code",
   "execution_count": 16,
   "id": "c4ff176a",
   "metadata": {},
   "outputs": [],
   "source": [
    "ppp.to_csv(\"ppp_scaled.csv\")"
   ]
  }
 ],
 "metadata": {
  "kernelspec": {
   "display_name": "Python 3 (ipykernel)",
   "language": "python",
   "name": "python3"
  },
  "language_info": {
   "codemirror_mode": {
    "name": "ipython",
    "version": 3
   },
   "file_extension": ".py",
   "mimetype": "text/x-python",
   "name": "python",
   "nbconvert_exporter": "python",
   "pygments_lexer": "ipython3",
   "version": "3.11.4"
  }
 },
 "nbformat": 4,
 "nbformat_minor": 5
}
